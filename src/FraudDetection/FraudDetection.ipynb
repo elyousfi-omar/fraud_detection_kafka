{
 "cells": [
  {
   "cell_type": "code",
   "execution_count": null,
   "metadata": {
    "application/vnd.databricks.v1+cell": {
     "cellMetadata": {
      "byteLimit": 2048000,
      "rowLimit": 10000
     },
     "inputWidgets": {},
     "nuid": "f969096f-877c-409f-8df0-48e1d68cdf54",
     "showTitle": false,
     "title": ""
    }
   },
   "outputs": [
    {
     "data": {
      "application/vnd.databricks.v1+bamboolib_hint": "{\"pd.DataFrames\": [], \"version\": \"0.0.1\"}",
      "text/plain": []
     },
     "metadata": {},
     "output_type": "display_data"
    }
   ],
   "source": [
    "# Basic imports\n",
    "import pickle\n",
    "from io import BytesIO\n",
    "import pandas as pd\n",
    "\n",
    "# Pyspark imports\n",
    "from pyspark.sql import SparkSession\n",
    "from pyspark.sql.types import StructType, StructField, StringType, IntegerType, DoubleType\n",
    "from pyspark.sql import functions as F\n",
    "from pyspark.dbutils import DBUtils"
   ]
  },
  {
   "cell_type": "code",
   "execution_count": null,
   "metadata": {
    "application/vnd.databricks.v1+cell": {
     "cellMetadata": {
      "byteLimit": 2048000,
      "rowLimit": 10000
     },
     "inputWidgets": {},
     "nuid": "f74b7b53-e5c3-44a1-805a-dae313a9ac39",
     "showTitle": false,
     "title": ""
    }
   },
   "outputs": [],
   "source": [
    "# Create a SparkSession\n",
    "spark = SparkSession.builder.appName(\"FraudDetection\").getOrCreate()"
   ]
  },
  {
   "cell_type": "code",
   "execution_count": null,
   "metadata": {
    "application/vnd.databricks.v1+cell": {
     "cellMetadata": {
      "byteLimit": 2048000,
      "rowLimit": 10000
     },
     "inputWidgets": {},
     "nuid": "0375a3af-d253-46bf-8dd5-f7b3aa0590a4",
     "showTitle": false,
     "title": ""
    }
   },
   "outputs": [
    {
     "name": "stdout",
     "output_type": "stream",
     "text": [
      "Model loaded successfully.\n"
     ]
    }
   ],
   "source": [
    "# Import trained model\n",
    "model_path = \"dbfs:/FileStore/tables/models/IFMODEL_1_0_0.pkl\"\n",
    "\n",
    "# Read the binary file into a DataFrame\n",
    "binary_df = spark.read.format(\"binaryFile\").load(model_path)\n",
    "\n",
    "# Extract the binary data from the DataFrame\n",
    "binary_data = binary_df.select(\"content\").collect()[0][0]\n",
    "\n",
    "# Deserialize the model using pickle\n",
    "isolation_forest = pickle.load(BytesIO(binary_data))\n",
    "\n",
    "# The model is now loaded and ready to use\n",
    "print(\"Model loaded successfully.\")"
   ]
  },
  {
   "cell_type": "code",
   "execution_count": null,
   "metadata": {
    "application/vnd.databricks.v1+cell": {
     "cellMetadata": {
      "byteLimit": 2048000,
      "rowLimit": 10000
     },
     "inputWidgets": {},
     "nuid": "da5f1b37-d04a-46dc-8675-69b3dffa3a31",
     "showTitle": false,
     "title": ""
    }
   },
   "outputs": [],
   "source": [
    "# Define paths for Delta table and checkpoints\n",
    "delta_table_path = \"/transactions/table\"\n",
    "checkpoint_path = \"/transactions/checkpoint/dir\"\n",
    "predictions_output_path = \"/transactions/table_with_predictions\""
   ]
  },
  {
   "cell_type": "code",
   "execution_count": null,
   "metadata": {
    "application/vnd.databricks.v1+cell": {
     "cellMetadata": {
      "byteLimit": 2048000,
      "rowLimit": 10000
     },
     "inputWidgets": {},
     "nuid": "6cb19622-5ebc-4980-bf4b-fb55c98832d9",
     "showTitle": false,
     "title": ""
    }
   },
   "outputs": [],
   "source": [
    "# Define the feature columns used for prediction\n",
    "feature_columns = [\n",
    "    \"transaction_amount\", \"merchant_country_code\", \"settlement_amount\", \n",
    "    \"transaction_code\", \"transaction_currency\", \"settlement_currency\", \n",
    "    \"transaction_type\", \"payment_provider\", \"action_code\", \"cycle\", \n",
    "    \"mean_by_cardid\", \"day\", \"month\", \"year\"\n",
    "]"
   ]
  },
  {
   "cell_type": "code",
   "execution_count": null,
   "metadata": {
    "application/vnd.databricks.v1+cell": {
     "cellMetadata": {
      "byteLimit": 2048000,
      "rowLimit": 10000
     },
     "inputWidgets": {},
     "nuid": "f4f492fa-02fe-4a4f-9861-4eb0a6119183",
     "showTitle": false,
     "title": ""
    }
   },
   "outputs": [],
   "source": [
    "# Data schema for the transactions\n",
    "schema = StructType([\n",
    "    StructField(\"transaction_amount\", DoubleType(), True),\n",
    "    StructField(\"merchant_country_code\", StringType(), True),\n",
    "    StructField(\"transaction_date\", StringType(), True),\n",
    "    StructField(\"transaction_code\", StringType(), True),\n",
    "    StructField(\"transaction_currency\", IntegerType(), True),\n",
    "    StructField(\"transaction_type\", StringType(), True),\n",
    "    StructField(\"settlement_amount\", DoubleType(), True),\n",
    "    StructField(\"settlement_currency\", IntegerType(), True),\n",
    "    StructField(\"payment_provider\", StringType(), True),\n",
    "    StructField(\"processing_code\", StringType(), True),\n",
    "    StructField(\"card_id\", StringType(), True),\n",
    "    StructField(\"action_code\", DoubleType(), True),\n",
    "    StructField(\"merchant_name\", StringType(), True),\n",
    "    StructField(\"cycle\", DoubleType(), True)\n",
    "])"
   ]
  },
  {
   "cell_type": "code",
   "execution_count": null,
   "metadata": {
    "application/vnd.databricks.v1+cell": {
     "cellMetadata": {
      "byteLimit": 2048000,
      "rowLimit": 10000
     },
     "inputWidgets": {},
     "nuid": "a9b4aac6-eb4d-4533-804c-72fa10596b93",
     "showTitle": false,
     "title": ""
    }
   },
   "outputs": [],
   "source": [
    "# Stream new data from the Delta table\n",
    "streaming_df = spark.readStream.format(\"delta\").load(delta_table_path)\n",
    "\n",
    "# Parse the JSON data\n",
    "parsed_df = streaming_df.withColumn(\"parsed_value\", F.from_json(F.col(\"value\").cast(\"string\"), schema))\n",
    "parsed_df = parsed_df.select(\"parsed_value.*\")"
   ]
  },
  {
   "cell_type": "code",
   "execution_count": null,
   "metadata": {},
   "outputs": [],
   "source": [
    "dbutils = DBUtils(spark)\n",
    "files = dbutils.fs.ls(delta_table_path)\n",
    "for file_info in files:\n",
    "    if file_info.path != \"_data_log\": # should add a condition to make sure we only move the file we have in this execution\n",
    "        dst_file_path = delta_table_path + file_info.path.split('/')[-1]\n",
    "        dbutils.fs.mv(delta_table_path, dst_file_path)"
   ]
  },
  {
   "cell_type": "code",
   "execution_count": null,
   "metadata": {
    "application/vnd.databricks.v1+cell": {
     "cellMetadata": {
      "byteLimit": 2048000,
      "rowLimit": 10000
     },
     "inputWidgets": {},
     "nuid": "3b6c3227-c405-4842-b5b1-d9652db6c304",
     "showTitle": false,
     "title": ""
    }
   },
   "outputs": [],
   "source": [
    "parsed_df = parsed_df.withColumn(\"merchant_country_code\", F.substring(F.col(\"merchant_country_code\").cast(\"string\"), 1, 3))"
   ]
  },
  {
   "cell_type": "code",
   "execution_count": null,
   "metadata": {
    "application/vnd.databricks.v1+cell": {
     "cellMetadata": {
      "byteLimit": 2048000,
      "rowLimit": 10000
     },
     "inputWidgets": {},
     "nuid": "5b40437a-561f-406a-ac8b-70e82af79b8a",
     "showTitle": false,
     "title": ""
    }
   },
   "outputs": [],
   "source": [
    "parsed_df = parsed_df.withColumn(\"mean_by_cardid\", F.col(\"settlement_amount\"))"
   ]
  },
  {
   "cell_type": "code",
   "execution_count": null,
   "metadata": {
    "application/vnd.databricks.v1+cell": {
     "cellMetadata": {
      "byteLimit": 2048000,
      "rowLimit": 10000
     },
     "inputWidgets": {},
     "nuid": "f57b8262-0ee3-4425-8484-8057dc240c41",
     "showTitle": false,
     "title": ""
    }
   },
   "outputs": [],
   "source": [
    "mappings = {\n",
    "    \"transaction_type\": {\n",
    "        \"Purchase Domestic\": 0,\n",
    "        \"Withdrawal Domestic\": 5,\n",
    "        \"Refund Domestic\": 2,\n",
    "        \"Purchase International\": 1,\n",
    "        \"Unique Transfer Domestic\": 4,\n",
    "        \"Refund International\": 3,\n",
    "        \"Withdrawal International\": 6\n",
    "    },\n",
    "    \"settlement_currency\": {\n",
    "        826: 0\n",
    "    },\n",
    "    \"merchant_country_code\": {\n",
    "        \"826\": 15,\n",
    "        \"250\": 2,\n",
    "        \"372\": 5,\n",
    "        \"831\": 16,\n",
    "        \"840\": 17,\n",
    "        \"528\": 7,\n",
    "        \"276\": 3,\n",
    "        \"196\": 0,\n",
    "        \"344\": 4,\n",
    "        \"724\": 11,\n",
    "        \"208\": 1,\n",
    "        \"554\": 8,\n",
    "        \"620\": 10,\n",
    "        \"756\": 12,\n",
    "        \"764\": 13,\n",
    "        \"440\": 6,\n",
    "        \"566\": 9,\n",
    "        \"792\": 14\n",
    "    },\n",
    "    \"transaction_code\": {\n",
    "        \"1\": 3,\n",
    "        \"01\": 0,\n",
    "        \"4\": 5,\n",
    "        \"20\": 4,\n",
    "        \"04\": 1,\n",
    "        \"05\": 2,\n",
    "        \"5\": 6\n",
    "    },\n",
    "    \"transaction_currency\": {\n",
    "        826: 4,\n",
    "        784: 3,\n",
    "        124: 0,\n",
    "        978: 6,\n",
    "        764: 2,\n",
    "        840: 5,\n",
    "        566: 1\n",
    "    },\n",
    "    \"payment_provider\": {\n",
    "        \"\": 0\n",
    "    },\n",
    "    \"action_code\": {\n",
    "        0: 0,\n",
    "        \"null\": 1\n",
    "    },\n",
    "    \"cycle\": {\n",
    "        4: 3,\n",
    "        2: 1,\n",
    "        3: 2,\n",
    "        1: 0,\n",
    "        5: 4,\n",
    "        6: 5,\n",
    "        \"null\": 6\n",
    "    }\n",
    "}"
   ]
  },
  {
   "cell_type": "code",
   "execution_count": null,
   "metadata": {
    "application/vnd.databricks.v1+cell": {
     "cellMetadata": {
      "byteLimit": 2048000,
      "rowLimit": 10000
     },
     "inputWidgets": {},
     "nuid": "16a1c5d7-7b9b-4558-b6e9-96323f49ce3e",
     "showTitle": false,
     "title": ""
    }
   },
   "outputs": [],
   "source": [
    "# Apply mappings that we generated while label encoding the data\n",
    "def create_mapping_udf(mapping_dict):\n",
    "    def map_value(value):\n",
    "        return mapping_dict.get(value, None)\n",
    "    return F.udf(map_value, IntegerType())"
   ]
  },
  {
   "cell_type": "code",
   "execution_count": null,
   "metadata": {
    "application/vnd.databricks.v1+cell": {
     "cellMetadata": {
      "byteLimit": 2048000,
      "rowLimit": 10000
     },
     "inputWidgets": {},
     "nuid": "d0811884-e274-4a09-b26e-61d4dc785713",
     "showTitle": false,
     "title": ""
    }
   },
   "outputs": [],
   "source": [
    "for column, mapping in mappings.items():\n",
    "    mapping_udf = create_mapping_udf(mapping)\n",
    "    parsed_df = parsed_df.withColumn(column, mapping_udf(parsed_df[column]))"
   ]
  },
  {
   "cell_type": "code",
   "execution_count": null,
   "metadata": {
    "application/vnd.databricks.v1+cell": {
     "cellMetadata": {
      "byteLimit": 2048000,
      "rowLimit": 10000
     },
     "inputWidgets": {},
     "nuid": "604ce3e5-304e-4b81-8f6b-c55613d0e6d3",
     "showTitle": false,
     "title": ""
    }
   },
   "outputs": [],
   "source": [
    "parsed_df = parsed_df.withColumn(\"transaction_date\", F.to_timestamp(F.col(\"transaction_date\")))"
   ]
  },
  {
   "cell_type": "code",
   "execution_count": null,
   "metadata": {
    "application/vnd.databricks.v1+cell": {
     "cellMetadata": {
      "byteLimit": 2048000,
      "rowLimit": 10000
     },
     "inputWidgets": {},
     "nuid": "d695b3fc-066e-4224-8634-657ca2f64e53",
     "showTitle": false,
     "title": ""
    }
   },
   "outputs": [],
   "source": [
    "parsed_df = parsed_df.withColumn(\"day\", F.dayofmonth(F.col(\"transaction_date\")))\n",
    "parsed_df = parsed_df.withColumn(\"month\", F.month(F.col(\"transaction_date\")))\n",
    "parsed_df = parsed_df.withColumn(\"year\", F.year(F.col(\"transaction_date\")))"
   ]
  },
  {
   "cell_type": "code",
   "execution_count": null,
   "metadata": {
    "application/vnd.databricks.v1+cell": {
     "cellMetadata": {
      "byteLimit": 2048000,
      "rowLimit": 10000
     },
     "inputWidgets": {},
     "nuid": "935ee8df-b04c-4cdd-bfaa-c3a24d73031c",
     "showTitle": false,
     "title": ""
    }
   },
   "outputs": [],
   "source": [
    "pred_cols = [\n",
    "        \"transaction_amount\", \"merchant_country_code\", \"settlement_amount\", \n",
    "        \"transaction_code\", \"transaction_currency\", \"settlement_currency\", \n",
    "        \"transaction_type\", \"payment_provider\", \"action_code\", \"cycle\", \n",
    "        \"mean_by_cardid\", \"day\", \"month\", \"year\"\n",
    "    ]\n",
    "parsed_df = parsed_df[pred_cols]"
   ]
  },
  {
   "cell_type": "code",
   "execution_count": null,
   "metadata": {
    "application/vnd.databricks.v1+cell": {
     "cellMetadata": {
      "byteLimit": 2048000,
      "rowLimit": 10000
     },
     "inputWidgets": {},
     "nuid": "7910bcfa-db4c-4469-8213-6b4e5ae909eb",
     "showTitle": false,
     "title": ""
    }
   },
   "outputs": [
    {
     "data": {
      "text/html": [
       "<style scoped>\n",
       "  .ansiout {\n",
       "    display: block;\n",
       "    unicode-bidi: embed;\n",
       "    white-space: pre-wrap;\n",
       "    word-wrap: break-word;\n",
       "    word-break: break-all;\n",
       "    font-family: \"Menlo\", \"Monaco\", \"Consolas\", \"Ubuntu Mono\", \"Source Code Pro\", monospace;\n",
       "    font-size: 13px;\n",
       "    color: #555;\n",
       "    margin-left: 4px;\n",
       "    line-height: 19px;\n",
       "  }\n",
       "</style>"
      ]
     },
     "metadata": {
      "application/vnd.databricks.v1+output": {
       "arguments": {},
       "data": "",
       "errorSummary": "Cancelled",
       "errorTraceType": "html",
       "metadata": {},
       "type": "ipynbError"
      }
     },
     "output_type": "display_data"
    }
   ],
   "source": [
    "def apply_isolation_forest(batch_df, batch_id):\n",
    "    # Convert to Pandas DataFrame\n",
    "    pandas_df = batch_df.toPandas()\n",
    "    \n",
    "    # Apply the Isolation Forest model\n",
    "    predictions = isolation_forest.predict(pandas_df[feature_columns])\n",
    "    \n",
    "    # Add predictions back to the Pandas DataFrame\n",
    "    pandas_df['predictions'] = predictions\n",
    "    \n",
    "    # Convert the Pandas DataFrame back to Spark DataFrame\n",
    "    result_df = spark.createDataFrame(pandas_df)\n",
    "    \n",
    "    # Write results to Parquet (replace with your desired path)\n",
    "    result_df.write.mode(\"append\").parquet(\"/transactions/table/predictions\")\n",
    "\n",
    "# Apply the function on each batch\n",
    "query = parsed_df.writeStream.foreachBatch(apply_isolation_forest).start()\n",
    "query.awaitTermination()"
   ]
  }
 ],
 "metadata": {
  "application/vnd.databricks.v1+notebook": {
   "dashboards": [],
   "environmentMetadata": null,
   "language": "python",
   "notebookMetadata": {
    "pythonIndentUnit": 4
   },
   "notebookName": "FraudDetection",
   "widgets": {}
  },
  "language_info": {
   "name": "python"
  }
 },
 "nbformat": 4,
 "nbformat_minor": 0
}
