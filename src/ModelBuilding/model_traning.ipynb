{
 "cells": [
  {
   "cell_type": "code",
   "execution_count": 17,
   "metadata": {},
   "outputs": [],
   "source": [
    "import pandas as pd\n",
    "from sklearn import preprocessing\n",
    "from sklearn.ensemble import IsolationForest\n",
    "import warnings\n",
    "from sqlalchemy import create_engine, text\n",
    "import os\n",
    "import pickle\n",
    "from datetime import datetime\n",
    "import json\n"
   ]
  },
  {
   "cell_type": "code",
   "execution_count": 2,
   "metadata": {},
   "outputs": [],
   "source": [
    "from dotenv import load_dotenv"
   ]
  },
  {
   "cell_type": "code",
   "execution_count": 3,
   "metadata": {},
   "outputs": [
    {
     "data": {
      "text/plain": [
       "True"
      ]
     },
     "execution_count": 3,
     "metadata": {},
     "output_type": "execute_result"
    }
   ],
   "source": [
    "load_dotenv()"
   ]
  },
  {
   "cell_type": "code",
   "execution_count": 4,
   "metadata": {},
   "outputs": [],
   "source": [
    "warnings.filterwarnings(\"ignore\")"
   ]
  },
  {
   "cell_type": "code",
   "execution_count": 5,
   "metadata": {},
   "outputs": [],
   "source": [
    "TABLE_NAME = \"transactions_data\"\n",
    "DB_NAME = \"client_data\""
   ]
  },
  {
   "cell_type": "code",
   "execution_count": 6,
   "metadata": {},
   "outputs": [
    {
     "name": "stdout",
     "output_type": "stream",
     "text": [
      "root\n"
     ]
    }
   ],
   "source": [
    "DB_USER = os.environ.get(\"DB_USER\")\n",
    "DB_PW = os.environ.get(\"DB_PW\")\n",
    "DB_HOST = os.environ.get(\"DB_HOST\")\n",
    "DB_PORT = os.environ.get(\"DB_PORT\")\n",
    "print(DB_USER)"
   ]
  },
  {
   "cell_type": "code",
   "execution_count": 7,
   "metadata": {},
   "outputs": [],
   "source": [
    "engine = create_engine(f\"mysql+pymysql://{DB_USER}:{DB_PW}@{DB_HOST}:{DB_PORT}\")"
   ]
  },
  {
   "cell_type": "code",
   "execution_count": 8,
   "metadata": {},
   "outputs": [],
   "source": [
    "data_query = f\"SELECT * from {DB_NAME}.{TABLE_NAME}\"\n",
    "raw_data = pd.read_sql(data_query, engine)"
   ]
  },
  {
   "cell_type": "code",
   "execution_count": 9,
   "metadata": {},
   "outputs": [],
   "source": [
    "engine.dispose()"
   ]
  },
  {
   "cell_type": "code",
   "execution_count": 10,
   "metadata": {},
   "outputs": [],
   "source": [
    "raw_data[\"merchant_country_code\"] = raw_data[\"merchant_country_code\"].astype(str).str[:3]"
   ]
  },
  {
   "cell_type": "code",
   "execution_count": 11,
   "metadata": {},
   "outputs": [],
   "source": [
    "mean_by_cardid = raw_data.groupby('card_id')['settlement_amount'].mean()\n",
    "mean_by_cardid = mean_by_cardid.reset_index() \n",
    "mean_by_cardid.rename(columns = {\"settlement_amount\": \"mean_by_cardid\"}, inplace = True)\n",
    "\n",
    "raw_data = raw_data.merge(mean_by_cardid, on=\"card_id\", how='left')"
   ]
  },
  {
   "cell_type": "code",
   "execution_count": 12,
   "metadata": {},
   "outputs": [],
   "source": [
    "raw_data = raw_data[~raw_data[\"settlement_amount\"].isna()]"
   ]
  },
  {
   "cell_type": "code",
   "execution_count": 13,
   "metadata": {},
   "outputs": [],
   "source": [
    "le = preprocessing.LabelEncoder()\n",
    "raw_data[[\"transaction_type_enc\", \"settlement_currency_enc\", \"merchant_country_code_enc\", \"transaction_code_enc\", \"transaction_currency_enc\", \"payment_provider_enc\", \"action_code_enc\", \"cycle_enc\"]] = raw_data[[\"transaction_type\", \"settlement_currency\", \"merchant_country_code\", \"transaction_code\", \"transaction_currency\", \"payment_provider\", \"action_code\", \"cycle\"]].astype(str).apply(le.fit_transform)"
   ]
  },
  {
   "cell_type": "code",
   "execution_count": 19,
   "metadata": {},
   "outputs": [],
   "source": [
    "mappings = {}"
   ]
  },
  {
   "cell_type": "code",
   "execution_count": 24,
   "metadata": {},
   "outputs": [],
   "source": [
    "for enc_col in [\"transaction_type\", \"settlement_currency\", \"merchant_country_code\", \"transaction_code\", \"transaction_currency\", \"payment_provider\", \"action_code\", \"cycle\"]:\n",
    "    mappings_df = raw_data[[enc_col, f\"{enc_col}_enc\"]].drop_duplicates()\n",
    "    mappings[enc_col] = {item[0]: item[1] for item in json.loads(mappings_df.to_json(orient=\"split\"))[\"data\"]} "
   ]
  },
  {
   "cell_type": "code",
   "execution_count": 25,
   "metadata": {},
   "outputs": [
    {
     "data": {
      "text/plain": [
       "{'transaction_type': {'Purchase Domestic': 0,\n",
       "  'Withdrawal Domestic': 5,\n",
       "  'Refund Domestic': 2,\n",
       "  'Purchase International': 1,\n",
       "  'Unique Transfer Domestic': 4,\n",
       "  'Refund International': 3,\n",
       "  'Withdrawal International': 6},\n",
       " 'settlement_currency': {826: 0},\n",
       " 'merchant_country_code': {'826': 15,\n",
       "  '250': 2,\n",
       "  '372': 5,\n",
       "  '831': 16,\n",
       "  '840': 17,\n",
       "  '528': 7,\n",
       "  '276': 3,\n",
       "  '196': 0,\n",
       "  '344': 4,\n",
       "  '724': 11,\n",
       "  '208': 1,\n",
       "  '554': 8,\n",
       "  '620': 10,\n",
       "  '756': 12,\n",
       "  '764': 13,\n",
       "  '440': 6,\n",
       "  '566': 9,\n",
       "  '792': 14},\n",
       " 'transaction_code': {'1': 3,\n",
       "  '01': 0,\n",
       "  '4': 5,\n",
       "  '20': 4,\n",
       "  '04': 1,\n",
       "  '05': 2,\n",
       "  '5': 6},\n",
       " 'transaction_currency': {826: 4,\n",
       "  784: 3,\n",
       "  124: 0,\n",
       "  978: 6,\n",
       "  764: 2,\n",
       "  840: 5,\n",
       "  566: 1},\n",
       " 'payment_provider': {'': 0},\n",
       " 'action_code': {0.0: 0, None: 1},\n",
       " 'cycle': {4.0: 3, 2.0: 1, 3.0: 2, 1.0: 0, 5.0: 4, 6.0: 5, None: 6}}"
      ]
     },
     "execution_count": 25,
     "metadata": {},
     "output_type": "execute_result"
    }
   ],
   "source": [
    "with open(\"mappings.txt\", \"w\") as file:\n",
    "    file.write(json.dumps(mappings))"
   ]
  },
  {
   "cell_type": "code",
   "execution_count": null,
   "metadata": {},
   "outputs": [],
   "source": [
    "le.classes_"
   ]
  },
  {
   "cell_type": "code",
   "execution_count": null,
   "metadata": {},
   "outputs": [],
   "source": [
    "raw_data[\"transaction_date\"] = pd.to_datetime(raw_data[\"transaction_date\"])\n",
    "\n",
    "raw_data[\"day\"] = raw_data[\"transaction_date\"].dt.day\n",
    "raw_data[\"month\"] = raw_data[\"transaction_date\"].dt.month\n",
    "raw_data[\"year\"] = raw_data[\"transaction_date\"].dt.year"
   ]
  },
  {
   "cell_type": "code",
   "execution_count": null,
   "metadata": {},
   "outputs": [],
   "source": [
    "pred_cols = [\"transaction_amount\", \"merchant_country_code\", \"settlement_amount\", \"transaction_code\", \"transaction_currency\", \"settlement_currency\", \"transaction_type\", \"payment_provider\", \"action_code\", \"cycle\", \"mean_by_cardid\", \"day\", \"month\", \"year\"]\n",
    "raw_data = raw_data[pred_cols]"
   ]
  },
  {
   "cell_type": "code",
   "execution_count": null,
   "metadata": {},
   "outputs": [],
   "source": [
    "model = IsolationForest(contamination=0.01, random_state=42)\n",
    "model.fit(raw_data)"
   ]
  },
  {
   "cell_type": "code",
   "execution_count": null,
   "metadata": {},
   "outputs": [],
   "source": [
    "def get_latest_version_model():\n",
    "    models = os.listdir(\"models\")\n",
    "    if not models:\n",
    "        return 0\n",
    "    models = list(filter(lambda x: x.endswith(\".pkl\"), models))\n",
    "    latest_model = sorted(models, reverse=True)[0]\n",
    "    latest_version = latest_model.split(\"_\")[1]\n",
    "    return latest_version\n",
    "\n",
    "def version_manager(version, change):\n",
    "    if version == 0:\n",
    "        return \"1.0.0\"\n",
    "    \n",
    "    if change.lower() == \"major\":\n",
    "        version = \".\".join([str(int(version.split(\".\")[0]) + 1), version.split(\".\")[1],version.split(\".\")[2]])\n",
    "    elif change.lower() == \"minor\":\n",
    "        version = \".\".join([version.split(\".\")[0], str(int(version.split(\".\")[1]) + 1), version.split(\".\")[2]])\n",
    "    elif change.lower() == \"iteration\":\n",
    "        version = \".\".join([version.split(\".\")[0], version.split(\".\")[1], str(int(version.split(\".\")[2]) + 1)])\n",
    "    else:\n",
    "        raise ValueError(\"Invalid change type\")\n",
    "    return version"
   ]
  },
  {
   "cell_type": "code",
   "execution_count": null,
   "metadata": {},
   "outputs": [],
   "source": [
    "current_version = version_manager(get_latest_version_model(), \"iteration\")\n",
    "today = datetime.now().strftime(\"%Y-%m-%d\")\n",
    "today = today.replace(\"-\",  \"\")"
   ]
  },
  {
   "cell_type": "code",
   "execution_count": null,
   "metadata": {},
   "outputs": [],
   "source": [
    "model_path = f\"models/IFMODEL_{current_version}.pkl\"\n",
    "\n",
    "os.makedirs(\"models\", exist_ok=True)\n",
    "pickle.dump(model, open(model_path, \"wb\"))\n"
   ]
  }
 ],
 "metadata": {
  "kernelspec": {
   "display_name": "Python 3",
   "language": "python",
   "name": "python3"
  },
  "language_info": {
   "codemirror_mode": {
    "name": "ipython",
    "version": 3
   },
   "file_extension": ".py",
   "mimetype": "text/x-python",
   "name": "python",
   "nbconvert_exporter": "python",
   "pygments_lexer": "ipython3",
   "version": "3.10.11"
  }
 },
 "nbformat": 4,
 "nbformat_minor": 2
}
